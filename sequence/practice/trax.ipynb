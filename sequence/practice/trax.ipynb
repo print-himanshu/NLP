{
 "metadata": {
  "language_info": {
   "codemirror_mode": {
    "name": "ipython",
    "version": 3
   },
   "file_extension": ".py",
   "mimetype": "text/x-python",
   "name": "python",
   "nbconvert_exporter": "python",
   "pygments_lexer": "ipython3",
   "version": "3.7.10-final"
  },
  "orig_nbformat": 2,
  "kernelspec": {
   "name": "python371064bitdeeplearningconda1ff241d7702448ecb7d5806ecad13c88",
   "display_name": "Python 3.7.10 64-bit ('deep-learning': conda)",
   "language": "python"
  }
 },
 "nbformat": 4,
 "nbformat_minor": 2,
 "cells": [
  {
   "cell_type": "code",
   "execution_count": 11,
   "metadata": {},
   "outputs": [],
   "source": [
    "import numpy as np\n",
    "from trax import layers as tl\n",
    "from trax import shapes"
   ]
  },
  {
   "cell_type": "code",
   "execution_count": 8,
   "metadata": {},
   "outputs": [
    {
     "output_type": "stream",
     "name": "stdout",
     "text": [
      "trax                     1.3.7\n"
     ]
    }
   ],
   "source": [
    "# Trax version 1.3.1 or better \n",
    "!pip list | grep trax"
   ]
  },
  {
   "cell_type": "code",
   "execution_count": 9,
   "metadata": {},
   "outputs": [
    {
     "output_type": "stream",
     "name": "stdout",
     "text": [
      "--Properties--\n",
      "Name:  Serial\n",
      "# of Input: 1\n",
      "# of Output : 1\n",
      "-- Inputs --\n",
      "x : WARNING:absl:No GPU/TPU found, falling back to CPU. (Set TF_CPP_MIN_LOG_LEVEL=0 and rerun for more info.)\n",
      "[-2 -1  0  1  2] \n",
      "\n",
      "-- Outputs --\n",
      "y : [0 0 0 1 2]\n"
     ]
    }
   ],
   "source": [
    "relu = tl.Relu()\n",
    "\n",
    "print(\"--Properties--\")\n",
    "print(\"Name: \",relu.name)\n",
    "print(f\"# of Input: {relu.n_in}\")\n",
    "print(f\"# of Output : {relu.n_out}\")\n",
    "\n",
    "\n",
    "# Inputs\n",
    "x = np.array([-2, -1, 0, 1, 2])\n",
    "print(\"-- Inputs --\")\n",
    "print(\"x :\", x, \"\\n\")\n",
    "\n",
    "# Outputs\n",
    "y = relu(x)\n",
    "print(\"-- Outputs --\")\n",
    "print(\"y :\", y)"
   ]
  },
  {
   "cell_type": "code",
   "execution_count": 10,
   "metadata": {},
   "outputs": [
    {
     "output_type": "stream",
     "name": "stdout",
     "text": [
      "-- Properties --\nname : Concatenate\nexpected inputs : 2\npromised outputs : 1 \n\n-- Inputs --\nx1 : [-10 -20 -30]\nx2 : [1. 2. 3.] \n\n-- Outputs --\ny : [-10. -20. -30.   1.   2.   3.]\n"
     ]
    }
   ],
   "source": [
    "# Create a concatenate trax layer\n",
    "concat = tl.Concatenate()\n",
    "print(\"-- Properties --\")\n",
    "print(\"name :\", concat.name)\n",
    "print(\"expected inputs :\", concat.n_in)\n",
    "print(\"promised outputs :\", concat.n_out, \"\\n\")\n",
    "\n",
    "# Inputs\n",
    "x1 = np.array([-10, -20, -30])\n",
    "x2 = x1 / -10\n",
    "print(\"-- Inputs --\")\n",
    "print(\"x1 :\", x1)\n",
    "print(\"x2 :\", x2, \"\\n\")\n",
    "\n",
    "# Outputs\n",
    "y = concat([x1, x2])\n",
    "print(\"-- Outputs --\")\n",
    "print(\"y :\", y)"
   ]
  },
  {
   "cell_type": "code",
   "execution_count": 12,
   "metadata": {},
   "outputs": [
    {
     "output_type": "stream",
     "name": "stdout",
     "text": [
      "Help on function signature in module trax.shapes:\n\nsignature(obj)\n    Returns a `ShapeDtype` signature for the given `obj`.\n    \n    A signature is either a `ShapeDtype` instance or a tuple of `ShapeDtype`\n    instances. Note that this function is permissive with respect to its inputs\n    (accepts lists or tuples or dicts, and underlying objects can be any type\n    as long as they have shape and dtype attributes) and returns the corresponding\n    nested structure of `ShapeDtype`.\n    \n    Args:\n      obj: An object that has `shape` and `dtype` attributes, or a list/tuple/dict\n          of such objects.\n    \n    Returns:\n      A corresponding nested structure of `ShapeDtype` instances.\n\n"
     ]
    }
   ],
   "source": [
    "help(shapes.signature)"
   ]
  },
  {
   "cell_type": "code",
   "execution_count": 16,
   "metadata": {},
   "outputs": [
    {
     "output_type": "stream",
     "name": "stdout",
     "text": [
      "Normal shape: (4,) Data Type: <class 'tuple'>\nShapes Trax: ShapeDtype{shape:(4,), dtype:float32} Data Type: <class 'trax.shapes.ShapeDtype'>\n-- Properties --\nname : LayerNorm\nexpected inputs : 1\npromised outputs : 1\nweights : [1. 1. 1. 1.]\nbiases : [0. 0. 0. 0.] \n\n-- Inputs --\nx : [0. 1. 2. 3.]\n-- Outputs --\ny : [-1.3416404  -0.44721344  0.44721344  1.3416404 ]\n"
     ]
    }
   ],
   "source": [
    "x = np.array([0,1,2,3], dtype = 'float32')\n",
    "norm = tl.LayerNorm()\n",
    "\n",
    "norm.init(shapes.signature(x))\n",
    "\n",
    "\n",
    "print(\"Normal shape:\",x.shape, \"Data Type:\",type(x.shape))\n",
    "print(\"Shapes Trax:\",shapes.signature(x),\"Data Type:\",type(shapes.signature(x)))\n",
    "\n",
    "# Inspect properties\n",
    "print(\"-- Properties --\")\n",
    "print(\"name :\", norm.name)\n",
    "print(\"expected inputs :\", norm.n_in)\n",
    "print(\"promised outputs :\", norm.n_out)\n",
    "# Weights and biases\n",
    "print(\"weights :\", norm.weights[0])\n",
    "print(\"biases :\", norm.weights[1], \"\\n\")\n",
    "\n",
    "# Inputs\n",
    "print(\"-- Inputs --\")\n",
    "print(\"x :\", x)\n",
    "\n",
    "# Outputs\n",
    "y = norm(x)\n",
    "print(\"-- Outputs --\")\n",
    "print(\"y :\", y)"
   ]
  },
  {
   "cell_type": "code",
   "execution_count": 21,
   "metadata": {},
   "outputs": [
    {
     "output_type": "stream",
     "name": "stdout",
     "text": [
      "--Properties--\nName: Multiplication\n# of input : 2\n# of Output: 1\n---------------\n\n---------Inputs--------\nx : [2]\ny:  [3]\n-----------------------\n\nOutputs: [6]\n"
     ]
    }
   ],
   "source": [
    "def Multiplication():\n",
    "    layer_name = 'Multiplication'\n",
    "\n",
    "    def func(x, y):\n",
    "        return x * y\n",
    "\n",
    "    return tl.Fn(layer_name, func)\n",
    "\n",
    "\n",
    "multiply = Multiplication()\n",
    "x = np.array([2])\n",
    "y = np.array([3])\n",
    "\n",
    "\n",
    "print(\"--Properties--\")\n",
    "print(f\"Name: {multiply.name}\")\n",
    "print(f\"# of input : {multiply.n_in}\")\n",
    "print(f\"# of Output: {multiply.n_out}\")\n",
    "print(\"---------------\\n\")\n",
    "\n",
    "print(\"---------Inputs--------\")\n",
    "print(f\"x : {x}\")\n",
    "print(f\"y:  {y}\")\n",
    "print(\"-----------------------\\n\")\n",
    "\n",
    "\n",
    "answer = multiply((x,y))\n",
    "print(f\"Outputs: {answer}\")"
   ]
  },
  {
   "cell_type": "code",
   "execution_count": 31,
   "metadata": {},
   "outputs": [
    {
     "output_type": "stream",
     "name": "stdout",
     "text": [
      "--Properties--\nName: Times Two\n# of input : 1\n# of Output: 1\n---------------\n\n---------Inputs--------\nx : [2]\n-----------------------\n\nOutputs: [4]\n"
     ]
    }
   ],
   "source": [
    "def TimesTwo():\n",
    "    layer_name = 'Times Two'\n",
    "\n",
    "    def func(x):\n",
    "        return x*2\n",
    "\n",
    "\n",
    "    return tl.Fn(layer_name, func)\n",
    "\n",
    "\n",
    "times_two = TimesTwo()\n",
    "x = np.array([2])\n",
    "y = np.array([3])\n",
    "\n",
    "\n",
    "print(\"--Properties--\")\n",
    "print(f\"Name: {times_two.name}\")\n",
    "print(f\"# of input : {times_two.n_in}\")\n",
    "print(f\"# of Output: {times_two.n_out}\")\n",
    "print(\"---------------\\n\")\n",
    "\n",
    "print(\"---------Inputs--------\")\n",
    "print(f\"x : {x}\")\n",
    "print(\"-----------------------\\n\")\n",
    "\n",
    "\n",
    "answer = times_two(x)\n",
    "print(f\"Outputs: {answer}\")\n"
   ]
  },
  {
   "cell_type": "code",
   "execution_count": 32,
   "metadata": {},
   "outputs": [
    {
     "output_type": "stream",
     "name": "stdout",
     "text": [
      "--Properties--\nName: Serial\nSublayers : [LayerNorm, Serial[\n  Relu\n], Times Two]\n# of input : 1\n# of Output: 1\nweights & biases: ((DeviceArray([1, 1, 1, 1, 1], dtype=int32), DeviceArray([0, 0, 0, 0, 0], dtype=int32)), ((), (), ()), ()) \n\n---------------\n\n---------Inputs--------\nx : [-2 -1  0  1  2]\n-----------------------\n\nOutputs: [0.        0.        0.        1.4142132 2.8284264]\n"
     ]
    }
   ],
   "source": [
    "serial = tl.Serial(\n",
    "  tl.LayerNorm(),\n",
    "  tl.Relu(),\n",
    "  times_two, \n",
    ")\n",
    "\n",
    "x = np.array([-2,-1,0,1,2])\n",
    "serial.init(shapes.signature(x))\n",
    "\n",
    "print(\"--Properties--\")\n",
    "print(f\"Name: {serial.name}\")\n",
    "print(f\"Sublayers : {serial.sublayers}\")\n",
    "print(f\"# of input : {serial.n_in}\")\n",
    "print(f\"# of Output: {serial.n_out}\")\n",
    "print(\"weights & biases:\", serial.weights, \"\\n\")\n",
    "print(\"---------------\\n\")\n",
    "\n",
    "print(\"---------Inputs--------\")\n",
    "print(f\"x : {x}\")\n",
    "print(\"-----------------------\\n\")\n",
    "\n",
    "\n",
    "answer = serial(x)\n",
    "print(f\"Outputs: {answer}\")\n",
    "\n",
    "\n"
   ]
  },
  {
   "cell_type": "code",
   "execution_count": 35,
   "metadata": {},
   "outputs": [],
   "source": [
    "from trax import fastmath"
   ]
  },
  {
   "cell_type": "code",
   "execution_count": 36,
   "metadata": {},
   "outputs": [
    {
     "output_type": "stream",
     "name": "stdout",
     "text": [
      "good old numpy :  <class 'numpy.ndarray'> \n\njax trax numpy :  <class 'jax.interpreters.xla._DeviceArray'>\n"
     ]
    }
   ],
   "source": [
    "# Numpy vs fastmath.numpy have different data types\n",
    "# Regular ol' numpy\n",
    "x_numpy = np.array([1, 2, 3])\n",
    "print(\"good old numpy : \", type(x_numpy), \"\\n\")\n",
    "\n",
    "# Fastmath and jax numpy\n",
    "x_jax = fastmath.numpy.array([1, 2, 3])\n",
    "print(\"jax trax numpy : \", type(x_jax))"
   ]
  },
  {
   "cell_type": "code",
   "execution_count": null,
   "metadata": {},
   "outputs": [],
   "source": []
  }
 ]
}